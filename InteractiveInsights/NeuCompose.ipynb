{
 "cells": [
  {
   "cell_type": "code",
   "execution_count": 1,
   "metadata": {},
   "outputs": [],
   "source": [
    "import time\n",
    "import json\n",
    "from flask import Flask, request\n",
    "app = Flask(__name__)\n",
    "import re"
   ]
  },
  {
   "cell_type": "code",
   "execution_count": null,
   "metadata": {},
   "outputs": [],
   "source": [
    " # Opening JSON file\n",
    "f = open(dir + '/data.json')\n",
    " \n",
    "# returns JSON object as \n",
    "# a dictionary\n",
    "all_tables_dict= json.load(f)\n",
    " \n",
    "# Iterating through the json\n",
    "# list\n",
    "\n",
    "# Closing file\n",
    "f.close()"
   ]
  },
  {
   "cell_type": "code",
   "execution_count": 367,
   "metadata": {},
   "outputs": [],
   "source": [
    "tables_list = [\"app_slp_customer\", \"app_visits\", \"app_browsing_anonymous_user_city\", \"app_browsing_user_city\",\n",
    "               \"customer_details\", \"tataneu_parameters\", \"microsegments_vw_ihcl\",\"currency_conversion_fact_vw\",\"appjourneyandmicrosegment\",\n",
    "                 \"microsegments_vw_bigbasket\", \"microsegments_vw_PvTML\", \"Transaction\", \"Items\",\"Transaction_earn_burn\",\n",
    "                 \"loyalty_total_earn_burn\", \"Available_Neucoins\", \"brand_transaction_organic_inorganic\",\"brand_transaction_metrics\",\n",
    "                 \"brand_bb_memberid_withoutmemberid\",\"marketing_cohorts_cohort_tagging\"]"
   ]
  },
  {
   "cell_type": "code",
   "execution_count": 340,
   "metadata": {},
   "outputs": [],
   "source": [
    "table_dict = {}\n",
    "\n",
    "for key in dict_final.keys:\n",
    "    l = dict_final[key]\n",
    "    for i in l:\n",
    "        if i in table_dict[key].columns.to_list():\n",
    "            table_dict[key][i][1] = True"
   ]
  },
  {
   "cell_type": "code",
   "execution_count": 330,
   "metadata": {},
   "outputs": [],
   "source": [
    "tables_list2 = []\n",
    "for table in tables_list:\n",
    "    table2 = f\"{table} = pd.read_csv('{table}.csv')\"\n",
    "    tables_list2.append(table2)"
   ]
  },
  {
   "cell_type": "code",
   "execution_count": 369,
   "metadata": {},
   "outputs": [],
   "source": [
    "import pandas as pd\n",
    "for table in tables_list2:\n",
    "    exec(table)"
   ]
  },
  {
   "cell_type": "code",
   "execution_count": 368,
   "metadata": {},
   "outputs": [],
   "source": [
    "tables_list_nonstring = []\n",
    "all_attributes = {}\n",
    "for table in tables_list:\n",
    "    attr = eval(f\"{table}.columns[1:].to_list()\")\n",
    "    all_attributes[table] = attr\n",
    "    table2 = exec(table)\n",
    "    tables_list_nonstring.append(table2)"
   ]
  },
  {
   "cell_type": "code",
   "execution_count": 326,
   "metadata": {},
   "outputs": [],
   "source": [
    "context = \"I want the cohort to target cross category or cross brand users.\""
   ]
  },
  {
   "cell_type": "code",
   "execution_count": 353,
   "metadata": {},
   "outputs": [],
   "source": [
    "campaginName = \"Marketing Campaign\"\n",
    "campaignDetails = \"I want the cohort to target cross category or cross brand users.\"\n",
    "campaignSize = \"500\"\n",
    "minNoOfCohort =  1\n",
    "maxNoOfCohort = 5\n",
    "minCohortSize = 10"
   ]
  },
  {
   "cell_type": "code",
   "execution_count": 362,
   "metadata": {},
   "outputs": [],
   "source": [
    "@app.route('/api/model_input', methods=['POST','GET'])\n",
    "def model_input():\n",
    "    dict_input = {\"campaignName\": campaignName,\n",
    "                    \"campaignDetails\": context,\n",
    "                    \"campaignSize\":campaignSize,\n",
    "                    \"minNoOfCohort\": minNoOfCohort,\n",
    "                    \"maxNoOfCohort\":maxNoOfCohort,\n",
    "                    \"minCohortSize\":minCohortSize,\n",
    "                    }\n",
    "    return dict_input"
   ]
  },
  {
   "cell_type": "code",
   "execution_count": 325,
   "metadata": {},
   "outputs": [],
   "source": [
    "def gptcall(attributes, context, campaignName, minCohortSize,minNoOfCohort,maxNoOfCohort):\n",
    "    payload = json.dumps({\n",
    "        \"messages\": [\n",
    "        {\n",
    "            \"role\": \"system\",\n",
    "            \"content\": f'''Given the dictionary all_attributes{attributes} with keys as table names and values as a list\n",
    "    of columns or attributes corresponding to that table,given the context{context} which is the objective of the\n",
    "    marketing campaign called as {campaignName} identify from the given SQL query the  \n",
    "    names/attributes which are relevant to the given query besides the one mentioned in the query itself in order to create a \n",
    "    marketing segment or cohort of minimum size {minCohortSize}from which further analyses can\n",
    "    be done. The minimum number of tables to be used is {minNoOfCohort} and maximum number of tables to be used is {maxNoOfCohort}.\n",
    "    Give a reason for your choice of attributes and how these attributes would create a good marketing\n",
    "    segment or cohort Give the output as a dictionary with key as the corresponding table from which it is taken \n",
    "    and values as a list of attributes in that table.Call the dictionary\n",
    "    as dict_final. Enclose the dictionary in triple backquotes. Give the explanation seperately in numbered bullet\n",
    "    points in a dictionary called dict_explanation with keys as attributes and columns as the explanation for the same.\n",
    "    Dont use apostrophe for words in the explanation. Give a name for the marketing cohort as a dictionary\n",
    "    dict_cohort with key as the name and value as explnation for why you have given that name.  Give the final\n",
    "    result in python syntax.'''\n",
    "        },\n",
    "    #     {\n",
    "    #       \"role\": \"user\",\n",
    "    #       \"content\": \"Give top 10 customer spend.\"\n",
    "    #     },\n",
    "    #     {\n",
    "    #       \"role\": \"assistant\",\n",
    "    #       \"content\": \"'''sql SELECT customer_hash, FROM bb_sales, GROUP BY customer_hash, ORDER BY order_value DESC, LIMIT 10;'''\"\n",
    "    #     },\n",
    "        {\n",
    "            \"role\": \"user\",\n",
    "            \"content\": f'''SELECT * FROM microsegments_vw_bigbasket  WHERE \tbigbasketMonetaryValue > 1000'''\n",
    "\n",
    "        }],\n",
    "        \n",
    "        \"max_tokens\": 4096,\n",
    "        \"temperature\": 0.0,\n",
    "        \"frequency_penalty\": 0,\n",
    "        \"presence_penalty\": 0,\n",
    "        \"top_p\": 0.95,\n",
    "        \"stop\": None\n",
    "    })\n",
    "    headers = {\n",
    "        'Content-Type': 'application/json',\n",
    "        'api-key': 'b34db39a21bd4d6aa73f5a12e9f6fdf9'\n",
    "    }\n",
    "\n",
    "    import requests\n",
    "    time1 = time.time()\n",
    "    url = '''https://tdl-aoai-southindia.openai.azure.com/openai/deployments/tdl-gpt4-turbo-preview/chat/completions?api-version=2023-12-01-preview'''\n",
    "    response = requests.request(\"POST\", url, headers=headers, data=payload)\n",
    "\n",
    "    result = response.text\n",
    "    time2 = time.time()\n",
    "    total_time = time2 - time1\n",
    "    return (result, total_time)"
   ]
  },
  {
   "cell_type": "code",
   "execution_count": 336,
   "metadata": {},
   "outputs": [],
   "source": [
    "openai_result = gptcall(all_attributes, context)"
   ]
  },
  {
   "cell_type": "code",
   "execution_count": null,
   "metadata": {},
   "outputs": [],
   "source": [
    " Give the explanation seperately in numbered bullet\n",
    "    points in a dictionary called dict_explanation with keys as attributes and columns as the explanation for the same.\n",
    "    Dont use apostrophe for words in the explanation. Give a name for the marketing cohort as a dictionary\n",
    "    dict_cohort with key as the name and value as explnation for why you have given that name."
   ]
  },
  {
   "cell_type": "code",
   "execution_count": 337,
   "metadata": {},
   "outputs": [],
   "source": [
    "def postprocessing(gpt_output):\n",
    "    matches4 = [m.group(1) for m in re.finditer(\"```([\\w\\W]*?)```\", gpt_output)]\n",
    "    matches4[0] = matches4[0].replace(\"python\", \"\")\n",
    "    matches4[0] = matches4[0].replace(\"\\\\n\", \"\\n\")\n",
    "    matches4[0] = matches4[0].replace('\\\\', \"\")\n",
    "    return matches4[0]"
   ]
  },
  {
   "cell_type": "code",
   "execution_count": 338,
   "metadata": {},
   "outputs": [],
   "source": [
    "#Execute python statement and create dictionary of tables and features!\n",
    "exec(postprocessing(openai_result[0]))"
   ]
  },
  {
   "cell_type": "code",
   "execution_count": 370,
   "metadata": {},
   "outputs": [],
   "source": [
    "table_dict = {}\n",
    "\n",
    "for key in dict_final.keys():\n",
    "    l = dict_final[key]\n",
    "    for i in l:\n",
    "        if i in all_tables_dict[key].keys():\n",
    "            all_tables_dict[key][i][1] = True"
   ]
  },
  {
   "cell_type": "code",
   "execution_count": 371,
   "metadata": {},
   "outputs": [],
   "source": [
    "all_features = []\n",
    "for key in dict_final.keys():\n",
    "    for feat in dict_final[key]:\n",
    "        all_features.append(feat)"
   ]
  },
  {
   "cell_type": "code",
   "execution_count": 373,
   "metadata": {},
   "outputs": [],
   "source": [
    "@app.route('/api/final_call_output', methods=['POST','GET'])\n",
    "def final_call_output():\n",
    "    dict_output = {\"campaignName\": campaignName,\n",
    "                    \"campaignDetails\": campaignDetails,\n",
    "                    \"campaignSize\":campaignSize,\n",
    "                    \"minNoOfCohort\": minNoOfCohort,\n",
    "                    \"maxNoOfCohort\":maxNoOfCohort,\n",
    "                    \"minCohortSize\":minCohortSize,\n",
    "                    \"features\" : all_features,\n",
    "                    \"feature_1\":all_tables_dict\n",
    "                    }\n",
    "    return dict_output"
   ]
  },
  {
   "cell_type": "code",
   "execution_count": 321,
   "metadata": {},
   "outputs": [
    {
     "name": "stdout",
     "output_type": "stream",
     "text": [
      " * Serving Flask app '__main__'\n",
      " * Debug mode: off\n"
     ]
    },
    {
     "name": "stderr",
     "output_type": "stream",
     "text": [
      "WARNING: This is a development server. Do not use it in a production deployment. Use a production WSGI server instead.\n",
      " * Running on http://127.0.0.1:5000\n",
      "Press CTRL+C to quit\n",
      "127.0.0.1 - - [23/Feb/2024 14:47:36] \"GET / HTTP/1.1\" 404 -\n",
      "127.0.0.1 - - [23/Feb/2024 14:47:36] \"GET /favicon.ico HTTP/1.1\" 404 -\n"
     ]
    }
   ],
   "source": [
    "if __name__ == '__main__':\n",
    "    app.run()"
   ]
  }
 ],
 "metadata": {
  "kernelspec": {
   "display_name": "Python 3",
   "language": "python",
   "name": "python3"
  },
  "language_info": {
   "codemirror_mode": {
    "name": "ipython",
    "version": 3
   },
   "file_extension": ".py",
   "mimetype": "text/x-python",
   "name": "python",
   "nbconvert_exporter": "python",
   "pygments_lexer": "ipython3",
   "version": "3.11.8"
  }
 },
 "nbformat": 4,
 "nbformat_minor": 2
}
